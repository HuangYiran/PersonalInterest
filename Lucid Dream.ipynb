{
 "cells": [
  {
   "cell_type": "markdown",
   "metadata": {},
   "source": [
    "## Dream awareness Techniques\n",
    "### Keep a dream journal\n",
    "### Use reality checks frequently \n",
    "- 捏鼻子，闭嘴，看能否呼吸\n",
    "- 来回看手，读文，盯时钟看会否改变\n",
    "- 尝试使用食指穿过手掌\n",
    "### Repeat \"I will be aware that i'm dreaming\" each time you fall asleep\n",
    "心理暗示\n",
    "### Learn to recognize your personal dream signs\n",
    "可以通过记日记笔记来发现\n",
    "### Drift back to sleep when awakend form a dream\n",
    "醒来后记下记录，闭眼，集中注意于梦境，想象身处于梦境中，并且时刻提醒注意梦境的标志和实景测试。也可以使用太玄功。\n",
    "### Consider purchasing a light alarm\n",
    "\n",
    "## Using the wake Back to Bed Method\n",
    "### Know when lucid dreams most commonly accur"
   ]
  },
  {
   "cell_type": "code",
   "execution_count": null,
   "metadata": {
    "collapsed": true
   },
   "outputs": [],
   "source": []
  }
 ],
 "metadata": {
  "kernelspec": {
   "display_name": "Python2-tf",
   "language": "python",
   "name": "python2"
  },
  "language_info": {
   "codemirror_mode": {
    "name": "ipython",
    "version": 2
   },
   "file_extension": ".py",
   "mimetype": "text/x-python",
   "name": "python",
   "nbconvert_exporter": "python",
   "pygments_lexer": "ipython2",
   "version": "2.7.13"
  }
 },
 "nbformat": 4,
 "nbformat_minor": 2
}
