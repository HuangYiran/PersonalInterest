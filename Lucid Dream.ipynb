{
 "cells": [
  {
   "cell_type": "markdown",
   "metadata": {},
   "source": [
    "## Dream awareness Techniques\n",
    "- Keep a dream journal\n",
    "- Use reality checks frequently \n",
    "    - 捏鼻子，闭嘴，看能否呼吸\n",
    "    - 来回看手，读文，盯时钟看会否改变\n",
    "    - 尝试使用食指穿过手掌\n",
    "- Repeat \"I will be aware that i'm dreaming\" each time you fall asleep\n",
    "    -心理暗示\n",
    "- Learn to recognize your personal dream signs\n",
    "    -可以通过记日记笔记来发现\n",
    "- Drift back to sleep when awakend form a dream\n",
    "    -醒来后记下记录，闭眼，集中注意于梦境，想象身处于梦境中，并且时刻提醒注意梦境的标志和实景测试。也可以使用太玄功。\n",
    "- Consider purchasing a light alarm\n",
    "\n",
    "## Using the wake Back to Bed Method\n",
    "- Know when lucid dreams most commonly accur\n",
    "![sleep state](https://raw.githubusercontent.com/HuangYiran/PersonalInterest/master/fotos/sleep_state.png)\n",
    "- Encorage your body to get more REM sleep \n",
    "    -还需要查阅\n",
    "- Wake up in the middle of the night\n",
    "    -注意上图（当然每个人的情况可能不一样，最好是根据自身情况），尝试多次于REM状态中醒来\n",
    "- Stay awake for a while\n",
    "    -醒来后，别急着再次入睡，休息一会后（一般30~60min）或起身走走。使意识清醒，然后再再次入睡。\n",
    "- Concentrate on the dream and fall asleep again \n",
    "    -不断的回想梦境，并在此状态下进入睡眠\n",
    "- Try other concentration technique \n",
    "    -若无法集中于梦境或无法回想起梦境，可以尝试集中精神与手指间的小动作，比如交替上下摆动食指和中指。重复这种有规律的小动作，知道进入睡眠\n",
    "\n",
    "## Using additional Techniques\n",
    "- Meditate\n",
    "    -这个也得查\n",
    "- Prolong a lucid dream as it starts to fade\n",
    "    -由于兴奋，在首次进入Lucid Dream的时候很容易就会清醒过来，这之前一般你会得到一些暗示，像梦境变得不稳定，或开始能够感知到现实环境。一下方法可以使你继续你的梦境\n",
    "        - 旋转你梦中的身体或向后我倒\n",
    "        - 在梦境中相互摩擦双手。这可以使你的感知从现实环境中转移开\n",
    "        - 继续做，你在梦境变得不稳定之前正在做的事。这个的效率相较于前面两种的效果比较不好\n",
    "\n",
    "- Listen to binaural beats\n",
    "- Play video game\n",
    "- Consider taking galantamine: occasional Supplement 4~8mg/\n",
    "- Consider the occasional vitamin B(B5, B6) supplement 100mg/"
   ]
  },
  {
   "cell_type": "code",
   "execution_count": null,
   "metadata": {
    "collapsed": true
   },
   "outputs": [],
   "source": []
  }
 ],
 "metadata": {
  "kernelspec": {
   "display_name": "Python2-tf",
   "language": "python",
   "name": "python2"
  },
  "language_info": {
   "codemirror_mode": {
    "name": "ipython",
    "version": 2
   },
   "file_extension": ".py",
   "mimetype": "text/x-python",
   "name": "python",
   "nbconvert_exporter": "python",
   "pygments_lexer": "ipython2",
   "version": "2.7.13"
  }
 },
 "nbformat": 4,
 "nbformat_minor": 2
}
